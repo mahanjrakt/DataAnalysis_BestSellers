{
 "cells": [
  {
   "cell_type": "markdown",
   "id": "0b97d2f9",
   "metadata": {},
   "source": [
    " # Top 100 Best Selling Books in Amazon from 2009 to 2021\n",
    "\n",
    "The data set includes top 100 best selling titles from Amazon. The analysis period is from 2009 to 2021. \n",
    "The fields available are s_no, price,ranks,title,no_of_reviews,ratings,author,cover_type,year,genre."
   ]
  },
  {
   "cell_type": "code",
   "execution_count": 1,
   "id": "4613b19b",
   "metadata": {},
   "outputs": [],
   "source": [
    "import pandas as pd\n",
    "import numpy as np\n",
    "import seaborn as sns\n",
    "import matplotlib.pyplot as plt"
   ]
  },
  {
   "cell_type": "markdown",
   "id": "a5087a42",
   "metadata": {},
   "source": [
    "### 1. Import the dataset"
   ]
  },
  {
   "cell_type": "code",
   "execution_count": 2,
   "id": "25c4b69f",
   "metadata": {},
   "outputs": [],
   "source": [
    "url = 'C:\\ANJALI\\Anjali_Learning\\Data Projects\\Amazon_top100_bestselling_books_2009to2021_analysed.xlsx'"
   ]
  },
  {
   "cell_type": "code",
   "execution_count": 3,
   "id": "4db4e1e5",
   "metadata": {},
   "outputs": [],
   "source": [
    "df = pd.read_excel(url)"
   ]
  },
  {
   "cell_type": "code",
   "execution_count": 6,
   "id": "b5c1bf16",
   "metadata": {},
   "outputs": [
    {
     "data": {
      "text/plain": [
       "Index(['S_no', 'price', 'ranks', 'title', 'no_of_reviews', 'ratings', 'author',\n",
       "       'cover_type', 'year', 'genre'],\n",
       "      dtype='object')"
      ]
     },
     "execution_count": 6,
     "metadata": {},
     "output_type": "execute_result"
    }
   ],
   "source": [
    "df.columns"
   ]
  },
  {
   "cell_type": "code",
   "execution_count": 4,
   "id": "31d16a71",
   "metadata": {},
   "outputs": [],
   "source": [
    "df.drop(columns=['S_no'],axis=1,inplace =True)"
   ]
  },
  {
   "cell_type": "code",
   "execution_count": 5,
   "id": "82fc055c",
   "metadata": {},
   "outputs": [
    {
     "data": {
      "text/plain": [
       "(1286, 9)"
      ]
     },
     "execution_count": 5,
     "metadata": {},
     "output_type": "execute_result"
    }
   ],
   "source": [
    "df.shape"
   ]
  },
  {
   "cell_type": "code",
   "execution_count": 27,
   "id": "ce4ccee6",
   "metadata": {},
   "outputs": [
    {
     "data": {
      "text/plain": [
       "744"
      ]
     },
     "execution_count": 27,
     "metadata": {},
     "output_type": "execute_result"
    }
   ],
   "source": [
    "# To find the number of unique titles in the data set\n",
    "df['title'].nunique()"
   ]
  },
  {
   "cell_type": "code",
   "execution_count": 6,
   "id": "5ad40276",
   "metadata": {},
   "outputs": [
    {
     "data": {
      "text/plain": [
       "price            float64\n",
       "ranks              int64\n",
       "title             object\n",
       "no_of_reviews      int64\n",
       "ratings          float64\n",
       "author            object\n",
       "cover_type        object\n",
       "year               int64\n",
       "genre             object\n",
       "dtype: object"
      ]
     },
     "execution_count": 6,
     "metadata": {},
     "output_type": "execute_result"
    }
   ],
   "source": [
    "df.dtypes"
   ]
  },
  {
   "cell_type": "markdown",
   "id": "9d940958",
   "metadata": {},
   "source": [
    "### Analysing the statistical information of dataframe fields"
   ]
  },
  {
   "cell_type": "code",
   "execution_count": 7,
   "id": "b8ea92ed",
   "metadata": {},
   "outputs": [
    {
     "data": {
      "text/html": [
       "<div>\n",
       "<style scoped>\n",
       "    .dataframe tbody tr th:only-of-type {\n",
       "        vertical-align: middle;\n",
       "    }\n",
       "\n",
       "    .dataframe tbody tr th {\n",
       "        vertical-align: top;\n",
       "    }\n",
       "\n",
       "    .dataframe thead th {\n",
       "        text-align: right;\n",
       "    }\n",
       "</style>\n",
       "<table border=\"1\" class=\"dataframe\">\n",
       "  <thead>\n",
       "    <tr style=\"text-align: right;\">\n",
       "      <th></th>\n",
       "      <th>price</th>\n",
       "      <th>ranks</th>\n",
       "      <th>no_of_reviews</th>\n",
       "      <th>ratings</th>\n",
       "      <th>year</th>\n",
       "    </tr>\n",
       "  </thead>\n",
       "  <tbody>\n",
       "    <tr>\n",
       "      <th>count</th>\n",
       "      <td>1286.000000</td>\n",
       "      <td>1286.000000</td>\n",
       "      <td>1286.000000</td>\n",
       "      <td>1286.000000</td>\n",
       "      <td>1286.000000</td>\n",
       "    </tr>\n",
       "    <tr>\n",
       "      <th>mean</th>\n",
       "      <td>13.760467</td>\n",
       "      <td>50.225505</td>\n",
       "      <td>25847.148523</td>\n",
       "      <td>4.650933</td>\n",
       "      <td>2015.023328</td>\n",
       "    </tr>\n",
       "    <tr>\n",
       "      <th>std</th>\n",
       "      <td>10.049580</td>\n",
       "      <td>28.804839</td>\n",
       "      <td>32229.048100</td>\n",
       "      <td>0.197245</td>\n",
       "      <td>3.738463</td>\n",
       "    </tr>\n",
       "    <tr>\n",
       "      <th>min</th>\n",
       "      <td>1.170000</td>\n",
       "      <td>1.000000</td>\n",
       "      <td>50.000000</td>\n",
       "      <td>3.400000</td>\n",
       "      <td>2009.000000</td>\n",
       "    </tr>\n",
       "    <tr>\n",
       "      <th>25%</th>\n",
       "      <td>8.550000</td>\n",
       "      <td>25.000000</td>\n",
       "      <td>6790.000000</td>\n",
       "      <td>4.600000</td>\n",
       "      <td>2012.000000</td>\n",
       "    </tr>\n",
       "    <tr>\n",
       "      <th>50%</th>\n",
       "      <td>12.105000</td>\n",
       "      <td>50.000000</td>\n",
       "      <td>16845.000000</td>\n",
       "      <td>4.700000</td>\n",
       "      <td>2015.000000</td>\n",
       "    </tr>\n",
       "    <tr>\n",
       "      <th>75%</th>\n",
       "      <td>16.290000</td>\n",
       "      <td>75.000000</td>\n",
       "      <td>32326.000000</td>\n",
       "      <td>4.800000</td>\n",
       "      <td>2018.000000</td>\n",
       "    </tr>\n",
       "    <tr>\n",
       "      <th>max</th>\n",
       "      <td>144.000000</td>\n",
       "      <td>100.000000</td>\n",
       "      <td>344811.000000</td>\n",
       "      <td>4.900000</td>\n",
       "      <td>2021.000000</td>\n",
       "    </tr>\n",
       "  </tbody>\n",
       "</table>\n",
       "</div>"
      ],
      "text/plain": [
       "             price        ranks  no_of_reviews      ratings         year\n",
       "count  1286.000000  1286.000000    1286.000000  1286.000000  1286.000000\n",
       "mean     13.760467    50.225505   25847.148523     4.650933  2015.023328\n",
       "std      10.049580    28.804839   32229.048100     0.197245     3.738463\n",
       "min       1.170000     1.000000      50.000000     3.400000  2009.000000\n",
       "25%       8.550000    25.000000    6790.000000     4.600000  2012.000000\n",
       "50%      12.105000    50.000000   16845.000000     4.700000  2015.000000\n",
       "75%      16.290000    75.000000   32326.000000     4.800000  2018.000000\n",
       "max     144.000000   100.000000  344811.000000     4.900000  2021.000000"
      ]
     },
     "execution_count": 7,
     "metadata": {},
     "output_type": "execute_result"
    }
   ],
   "source": [
    "df.describe()\n",
    "# Statistical information of all numeric fields"
   ]
  },
  {
   "cell_type": "code",
   "execution_count": 8,
   "id": "21a4aef5",
   "metadata": {},
   "outputs": [
    {
     "data": {
      "text/html": [
       "<div>\n",
       "<style scoped>\n",
       "    .dataframe tbody tr th:only-of-type {\n",
       "        vertical-align: middle;\n",
       "    }\n",
       "\n",
       "    .dataframe tbody tr th {\n",
       "        vertical-align: top;\n",
       "    }\n",
       "\n",
       "    .dataframe thead th {\n",
       "        text-align: right;\n",
       "    }\n",
       "</style>\n",
       "<table border=\"1\" class=\"dataframe\">\n",
       "  <thead>\n",
       "    <tr style=\"text-align: right;\">\n",
       "      <th></th>\n",
       "      <th>title</th>\n",
       "      <th>author</th>\n",
       "      <th>cover_type</th>\n",
       "      <th>genre</th>\n",
       "    </tr>\n",
       "  </thead>\n",
       "  <tbody>\n",
       "    <tr>\n",
       "      <th>count</th>\n",
       "      <td>1286</td>\n",
       "      <td>1286</td>\n",
       "      <td>1286</td>\n",
       "      <td>1285</td>\n",
       "    </tr>\n",
       "    <tr>\n",
       "      <th>unique</th>\n",
       "      <td>744</td>\n",
       "      <td>503</td>\n",
       "      <td>8</td>\n",
       "      <td>3</td>\n",
       "    </tr>\n",
       "    <tr>\n",
       "      <th>top</th>\n",
       "      <td>StrengthsFinder 2.0</td>\n",
       "      <td>Rick Riordan</td>\n",
       "      <td>Hardcover</td>\n",
       "      <td>Non Fiction</td>\n",
       "    </tr>\n",
       "    <tr>\n",
       "      <th>freq</th>\n",
       "      <td>11</td>\n",
       "      <td>20</td>\n",
       "      <td>642</td>\n",
       "      <td>723</td>\n",
       "    </tr>\n",
       "  </tbody>\n",
       "</table>\n",
       "</div>"
      ],
      "text/plain": [
       "                      title        author cover_type        genre\n",
       "count                  1286          1286       1286         1285\n",
       "unique                  744           503          8            3\n",
       "top     StrengthsFinder 2.0  Rick Riordan  Hardcover  Non Fiction\n",
       "freq                     11            20        642          723"
      ]
     },
     "execution_count": 8,
     "metadata": {},
     "output_type": "execute_result"
    }
   ],
   "source": [
    "#Get the statistical information on categorical variables\n",
    "df.describe(include = 'object')"
   ]
  },
  {
   "cell_type": "markdown",
   "id": "909a00df",
   "metadata": {},
   "source": [
    "### 3. Check for missing values in the data"
   ]
  },
  {
   "cell_type": "code",
   "execution_count": 9,
   "id": "de4022ea",
   "metadata": {},
   "outputs": [
    {
     "data": {
      "text/plain": [
       "price            False\n",
       "ranks            False\n",
       "title            False\n",
       "no_of_reviews    False\n",
       "ratings          False\n",
       "author           False\n",
       "cover_type       False\n",
       "year             False\n",
       "genre             True\n",
       "dtype: bool"
      ]
     },
     "execution_count": 9,
     "metadata": {},
     "output_type": "execute_result"
    }
   ],
   "source": [
    "df.isnull().any()"
   ]
  },
  {
   "cell_type": "code",
   "execution_count": 10,
   "id": "3b0170e4",
   "metadata": {},
   "outputs": [
    {
     "data": {
      "text/plain": [
       "price            0\n",
       "ranks            0\n",
       "title            0\n",
       "no_of_reviews    0\n",
       "ratings          0\n",
       "author           0\n",
       "cover_type       0\n",
       "year             0\n",
       "genre            1\n",
       "dtype: int64"
      ]
     },
     "execution_count": 10,
     "metadata": {},
     "output_type": "execute_result"
    }
   ],
   "source": [
    "df.isnull().sum()"
   ]
  },
  {
   "cell_type": "markdown",
   "id": "ba6b5d47",
   "metadata": {},
   "source": [
    "### 4. Replace missing value with appropriate data"
   ]
  },
  {
   "cell_type": "code",
   "execution_count": 11,
   "id": "c98081c0",
   "metadata": {},
   "outputs": [
    {
     "data": {
      "text/plain": [
       "array(['Fiction', 'Non Fiction', 'unknown', nan], dtype=object)"
      ]
     },
     "execution_count": 11,
     "metadata": {},
     "output_type": "execute_result"
    }
   ],
   "source": [
    "df['genre'].unique()"
   ]
  },
  {
   "cell_type": "code",
   "execution_count": 12,
   "id": "c1dc3aa8",
   "metadata": {},
   "outputs": [],
   "source": [
    "df['genre'].fillna(\"Not specified\",inplace = True)"
   ]
  },
  {
   "cell_type": "code",
   "execution_count": 13,
   "id": "64df8775",
   "metadata": {},
   "outputs": [
    {
     "data": {
      "text/plain": [
       "price            0\n",
       "ranks            0\n",
       "title            0\n",
       "no_of_reviews    0\n",
       "ratings          0\n",
       "author           0\n",
       "cover_type       0\n",
       "year             0\n",
       "genre            0\n",
       "dtype: int64"
      ]
     },
     "execution_count": 13,
     "metadata": {},
     "output_type": "execute_result"
    }
   ],
   "source": [
    "df.isnull().sum()"
   ]
  },
  {
   "cell_type": "code",
   "execution_count": 14,
   "id": "c88e5acb",
   "metadata": {},
   "outputs": [
    {
     "data": {
      "text/plain": [
       "Non Fiction      723\n",
       "Fiction          560\n",
       "unknown            2\n",
       "Not specified      1\n",
       "Name: genre, dtype: int64"
      ]
     },
     "execution_count": 14,
     "metadata": {},
     "output_type": "execute_result"
    }
   ],
   "source": [
    "df['genre'].value_counts()"
   ]
  },
  {
   "cell_type": "markdown",
   "id": "090c6f52",
   "metadata": {},
   "source": [
    "### 5. Check for outliers in price, ratings and number of reviews"
   ]
  },
  {
   "cell_type": "code",
   "execution_count": 16,
   "id": "7e3be94a",
   "metadata": {},
   "outputs": [
    {
     "data": {
      "text/plain": [
       "<AxesSubplot:xlabel='no_of_reviews'>"
      ]
     },
     "execution_count": 16,
     "metadata": {},
     "output_type": "execute_result"
    },
    {
     "data": {
      "image/png": "[encoded data removed]",
      "text/plain": [
       "<Figure size 1440x1080 with 3 Axes>"
      ]
     },
     "metadata": {
      "needs_background": "light"
     },
     "output_type": "display_data"
    }
   ],
   "source": [
    "plt.figure(figsize=(20,15))\n",
    "plt.subplot(4,4,1)\n",
    "sns.boxplot(x=\"ratings\",data=df)\n",
    "\n",
    "plt.subplot(4,4,2)\n",
    "sns.boxplot(x=\"price\",data=df)\n",
    "\n",
    "plt.subplot(4,4,3)\n",
    "sns.boxplot(x=\"no_of_reviews\",data=df)"
   ]
  },
  {
   "cell_type": "markdown",
   "id": "102333cc",
   "metadata": {},
   "source": [
    "### 6. Change in the average price of the best sellers over the analysis period based on genre\n",
    "\n",
    "The Pivot table shows the change in mean value of the price of Fiction and Non Fiction categories of the best selling books in Amazon. \n"
   ]
  },
  {
   "cell_type": "code",
   "execution_count": 18,
   "id": "b5fc547d",
   "metadata": {},
   "outputs": [
    {
     "data": {
      "text/html": [
       "<div>\n",
       "<style scoped>\n",
       "    .dataframe tbody tr th:only-of-type {\n",
       "        vertical-align: middle;\n",
       "    }\n",
       "\n",
       "    .dataframe tbody tr th {\n",
       "        vertical-align: top;\n",
       "    }\n",
       "\n",
       "    .dataframe thead th {\n",
       "        text-align: right;\n",
       "    }\n",
       "</style>\n",
       "<table border=\"1\" class=\"dataframe\">\n",
       "  <thead>\n",
       "    <tr style=\"text-align: right;\">\n",
       "      <th>genre</th>\n",
       "      <th>Fiction</th>\n",
       "      <th>Non Fiction</th>\n",
       "    </tr>\n",
       "    <tr>\n",
       "      <th>year</th>\n",
       "      <th></th>\n",
       "      <th></th>\n",
       "    </tr>\n",
       "  </thead>\n",
       "  <tbody>\n",
       "    <tr>\n",
       "      <th>2009</th>\n",
       "      <td>17.816122</td>\n",
       "      <td>15.557500</td>\n",
       "    </tr>\n",
       "    <tr>\n",
       "      <th>2010</th>\n",
       "      <td>13.405238</td>\n",
       "      <td>17.785455</td>\n",
       "    </tr>\n",
       "    <tr>\n",
       "      <th>2011</th>\n",
       "      <td>16.160233</td>\n",
       "      <td>16.849455</td>\n",
       "    </tr>\n",
       "    <tr>\n",
       "      <th>2012</th>\n",
       "      <td>16.166750</td>\n",
       "      <td>17.047966</td>\n",
       "    </tr>\n",
       "    <tr>\n",
       "      <th>2013</th>\n",
       "      <td>14.284146</td>\n",
       "      <td>18.442542</td>\n",
       "    </tr>\n",
       "    <tr>\n",
       "      <th>2014</th>\n",
       "      <td>13.516491</td>\n",
       "      <td>18.199524</td>\n",
       "    </tr>\n",
       "    <tr>\n",
       "      <th>2015</th>\n",
       "      <td>9.959000</td>\n",
       "      <td>14.545667</td>\n",
       "    </tr>\n",
       "    <tr>\n",
       "      <th>2016</th>\n",
       "      <td>12.083696</td>\n",
       "      <td>11.156863</td>\n",
       "    </tr>\n",
       "    <tr>\n",
       "      <th>2017</th>\n",
       "      <td>10.811395</td>\n",
       "      <td>12.191429</td>\n",
       "    </tr>\n",
       "    <tr>\n",
       "      <th>2018</th>\n",
       "      <td>12.041500</td>\n",
       "      <td>12.438814</td>\n",
       "    </tr>\n",
       "    <tr>\n",
       "      <th>2019</th>\n",
       "      <td>9.736154</td>\n",
       "      <td>11.617667</td>\n",
       "    </tr>\n",
       "    <tr>\n",
       "      <th>2020</th>\n",
       "      <td>9.711053</td>\n",
       "      <td>10.849677</td>\n",
       "    </tr>\n",
       "    <tr>\n",
       "      <th>2021</th>\n",
       "      <td>10.598571</td>\n",
       "      <td>12.115088</td>\n",
       "    </tr>\n",
       "  </tbody>\n",
       "</table>\n",
       "</div>"
      ],
      "text/plain": [
       "genre    Fiction  Non Fiction\n",
       "year                         \n",
       "2009   17.816122    15.557500\n",
       "2010   13.405238    17.785455\n",
       "2011   16.160233    16.849455\n",
       "2012   16.166750    17.047966\n",
       "2013   14.284146    18.442542\n",
       "2014   13.516491    18.199524\n",
       "2015    9.959000    14.545667\n",
       "2016   12.083696    11.156863\n",
       "2017   10.811395    12.191429\n",
       "2018   12.041500    12.438814\n",
       "2019    9.736154    11.617667\n",
       "2020    9.711053    10.849677\n",
       "2021   10.598571    12.115088"
      ]
     },
     "execution_count": 18,
     "metadata": {},
     "output_type": "execute_result"
    }
   ],
   "source": [
    "# Get the required fields for analysis\n",
    "df_test = df[['year','genre','price']]\n",
    "#Remove the data for genre not specified or unknown\n",
    "genre_reqd =['Fiction','Non Fiction']\n",
    "df_reqd = df_test.loc[df_test['genre'].isin(genre_reqd)]\n",
    "#df_reqd\n",
    "#Group the data based on year and genre and get the mean price\n",
    "df_group = df_reqd.groupby(['year','genre'],as_index = False).mean()\n",
    "\n",
    "#df_group\n",
    "grouped_pivot = df_group.pivot_table(index = 'year',columns ='genre',values='price')\n",
    "grouped_pivot"
   ]
  },
  {
   "cell_type": "markdown",
   "id": "7dc09aa7",
   "metadata": {},
   "source": [
    "### 7. Visualisation of trend in average price of the best sellers during the analysis period\n",
    "\n",
    "Creating line plots to identify the change in average price of fiction and non fiction books from 2009 to 2021"
   ]
  },
  {
   "cell_type": "code",
   "execution_count": 19,
   "id": "22fbe494",
   "metadata": {},
   "outputs": [
    {
     "data": {
      "image/png": "[encoded data removed]",
      "text/plain": [
       "<Figure size 720x360 with 1 Axes>"
      ]
     },
     "metadata": {
      "needs_background": "light"
     },
     "output_type": "display_data"
    }
   ],
   "source": [
    "ax = grouped_pivot.plot(xticks = grouped_pivot.index,ylabel ='Average Price',figsize=(10,5),title='Average Price over the years(2009-2021)')\n",
    "             \n",
    "#sns.lineplot(data= grouped_pivot)"
   ]
  },
  {
   "cell_type": "code",
   "execution_count": 20,
   "id": "e32c8f17",
   "metadata": {},
   "outputs": [
    {
     "data": {
      "text/plain": [
       "<AxesSubplot:title={'center':'Mean price of books based on genre and year'}, xlabel='year'>"
      ]
     },
     "execution_count": 20,
     "metadata": {},
     "output_type": "execute_result"
    },
    {
     "data": {
      "image/png": "[encoded data removed]",
      "text/plain": [
       "<Figure size 720x720 with 1 Axes>"
      ]
     },
     "metadata": {
      "needs_background": "light"
     },
     "output_type": "display_data"
    }
   ],
   "source": [
    "grouped_pivot.plot.bar(figsize=(10,10),title='Mean price of books based on genre and year')\n"
   ]
  },
  {
   "cell_type": "markdown",
   "id": "5d742259",
   "metadata": {},
   "source": [
    "### 8. Binning of Ratings into Low Medium and Good- Numerical variables into Categorical Variables"
   ]
  },
  {
   "cell_type": "code",
   "execution_count": 21,
   "id": "76d62a4c",
   "metadata": {},
   "outputs": [
    {
     "data": {
      "text/html": [
       "<div>\n",
       "<style scoped>\n",
       "    .dataframe tbody tr th:only-of-type {\n",
       "        vertical-align: middle;\n",
       "    }\n",
       "\n",
       "    .dataframe tbody tr th {\n",
       "        vertical-align: top;\n",
       "    }\n",
       "\n",
       "    .dataframe thead th {\n",
       "        text-align: right;\n",
       "    }\n",
       "</style>\n",
       "<table border=\"1\" class=\"dataframe\">\n",
       "  <thead>\n",
       "    <tr style=\"text-align: right;\">\n",
       "      <th></th>\n",
       "      <th>price</th>\n",
       "      <th>ranks</th>\n",
       "      <th>title</th>\n",
       "      <th>no_of_reviews</th>\n",
       "      <th>ratings</th>\n",
       "      <th>author</th>\n",
       "      <th>cover_type</th>\n",
       "      <th>year</th>\n",
       "      <th>genre</th>\n",
       "      <th>ratings_binned</th>\n",
       "    </tr>\n",
       "  </thead>\n",
       "  <tbody>\n",
       "    <tr>\n",
       "      <th>0</th>\n",
       "      <td>12.49</td>\n",
       "      <td>1</td>\n",
       "      <td>The Lost Symbol</td>\n",
       "      <td>16118</td>\n",
       "      <td>4.4</td>\n",
       "      <td>Dan Brown</td>\n",
       "      <td>Hardcover</td>\n",
       "      <td>2009</td>\n",
       "      <td>Fiction</td>\n",
       "      <td>Medium</td>\n",
       "    </tr>\n",
       "    <tr>\n",
       "      <th>1</th>\n",
       "      <td>13.40</td>\n",
       "      <td>2</td>\n",
       "      <td>The Shack: Where Tragedy Confronts Eternity</td>\n",
       "      <td>23392</td>\n",
       "      <td>4.7</td>\n",
       "      <td>William P. Young</td>\n",
       "      <td>Paperback</td>\n",
       "      <td>2009</td>\n",
       "      <td>Fiction</td>\n",
       "      <td>High</td>\n",
       "    </tr>\n",
       "    <tr>\n",
       "      <th>2</th>\n",
       "      <td>9.93</td>\n",
       "      <td>3</td>\n",
       "      <td>Liberty and Tyranny: A Conservative Manifesto</td>\n",
       "      <td>5036</td>\n",
       "      <td>4.8</td>\n",
       "      <td>Mark R. Levin</td>\n",
       "      <td>Hardcover</td>\n",
       "      <td>2009</td>\n",
       "      <td>Non Fiction</td>\n",
       "      <td>High</td>\n",
       "    </tr>\n",
       "    <tr>\n",
       "      <th>3</th>\n",
       "      <td>14.30</td>\n",
       "      <td>4</td>\n",
       "      <td>Breaking Dawn (The Twilight Saga, Book 4)</td>\n",
       "      <td>16912</td>\n",
       "      <td>4.7</td>\n",
       "      <td>Stephenie Meyer</td>\n",
       "      <td>Hardcover</td>\n",
       "      <td>2009</td>\n",
       "      <td>Fiction</td>\n",
       "      <td>High</td>\n",
       "    </tr>\n",
       "    <tr>\n",
       "      <th>4</th>\n",
       "      <td>9.99</td>\n",
       "      <td>5</td>\n",
       "      <td>Going Rogue: An American Life</td>\n",
       "      <td>1572</td>\n",
       "      <td>4.6</td>\n",
       "      <td>Sarah Palin</td>\n",
       "      <td>Hardcover</td>\n",
       "      <td>2009</td>\n",
       "      <td>Non Fiction</td>\n",
       "      <td>High</td>\n",
       "    </tr>\n",
       "  </tbody>\n",
       "</table>\n",
       "</div>"
      ],
      "text/plain": [
       "   price  ranks                                          title  no_of_reviews  \\\n",
       "0  12.49      1                                The Lost Symbol          16118   \n",
       "1  13.40      2    The Shack: Where Tragedy Confronts Eternity          23392   \n",
       "2   9.93      3  Liberty and Tyranny: A Conservative Manifesto           5036   \n",
       "3  14.30      4      Breaking Dawn (The Twilight Saga, Book 4)          16912   \n",
       "4   9.99      5                  Going Rogue: An American Life           1572   \n",
       "\n",
       "   ratings            author cover_type  year        genre ratings_binned  \n",
       "0      4.4         Dan Brown  Hardcover  2009      Fiction         Medium  \n",
       "1      4.7  William P. Young  Paperback  2009      Fiction           High  \n",
       "2      4.8     Mark R. Levin  Hardcover  2009  Non Fiction           High  \n",
       "3      4.7   Stephenie Meyer  Hardcover  2009      Fiction           High  \n",
       "4      4.6       Sarah Palin  Hardcover  2009  Non Fiction           High  "
      ]
     },
     "execution_count": 21,
     "metadata": {},
     "output_type": "execute_result"
    }
   ],
   "source": [
    "#Fixing the bins \n",
    "bins = np.linspace(min(df['ratings']),max(df['ratings']),4)\n",
    "group_names = ['Low','Medium','High']\n",
    "df['ratings_binned'] = pd.cut(df['ratings'],bins,labels=group_names,include_lowest = True)\n",
    "df.head()"
   ]
  },
  {
   "cell_type": "code",
   "execution_count": 22,
   "id": "d8e4599f",
   "metadata": {},
   "outputs": [
    {
     "data": {
      "text/plain": [
       "array([1126,  152,    8], dtype=int64)"
      ]
     },
     "execution_count": 22,
     "metadata": {},
     "output_type": "execute_result"
    },
    {
     "data": {
      "image/png": "[encoded data removed]",
      "text/plain": [
       "<Figure size 432x288 with 1 Axes>"
      ]
     },
     "metadata": {
      "needs_background": "light"
     },
     "output_type": "display_data"
    }
   ],
   "source": [
    "categories = df['ratings_binned'].value_counts().index\n",
    "counts = df['ratings_binned'].value_counts().values\n",
    "plt.bar(categories,counts,width =0.5)\n",
    "categories\n",
    "counts"
   ]
  },
  {
   "cell_type": "markdown",
   "id": "25828d93",
   "metadata": {},
   "source": [
    "### 9. Grouping of data for identifying unique titles"
   ]
  },
  {
   "cell_type": "code",
   "execution_count": 23,
   "id": "fccf6f51",
   "metadata": {},
   "outputs": [],
   "source": [
    "#New dataframe with required fields only\n",
    "df_test_title = df[['title','author','ratings','price']] \n"
   ]
  },
  {
   "cell_type": "code",
   "execution_count": 24,
   "id": "b5d3cb24",
   "metadata": {},
   "outputs": [
    {
     "data": {
      "text/html": [
       "<div>\n",
       "<style scoped>\n",
       "    .dataframe tbody tr th:only-of-type {\n",
       "        vertical-align: middle;\n",
       "    }\n",
       "\n",
       "    .dataframe tbody tr th {\n",
       "        vertical-align: top;\n",
       "    }\n",
       "\n",
       "    .dataframe thead th {\n",
       "        text-align: right;\n",
       "    }\n",
       "</style>\n",
       "<table border=\"1\" class=\"dataframe\">\n",
       "  <thead>\n",
       "    <tr style=\"text-align: right;\">\n",
       "      <th></th>\n",
       "      <th>title</th>\n",
       "      <th>ratings</th>\n",
       "      <th>price</th>\n",
       "    </tr>\n",
       "  </thead>\n",
       "  <tbody>\n",
       "    <tr>\n",
       "      <th>0</th>\n",
       "      <td>1984</td>\n",
       "      <td>4.7</td>\n",
       "      <td>7.48</td>\n",
       "    </tr>\n",
       "    <tr>\n",
       "      <th>1</th>\n",
       "      <td>10-Day Green Smoothie Cleanse</td>\n",
       "      <td>4.7</td>\n",
       "      <td>9.05</td>\n",
       "    </tr>\n",
       "    <tr>\n",
       "      <th>2</th>\n",
       "      <td>10-Day Green Smoothie Cleanse: Lose Up to 15 P...</td>\n",
       "      <td>4.7</td>\n",
       "      <td>25.75</td>\n",
       "    </tr>\n",
       "    <tr>\n",
       "      <th>3</th>\n",
       "      <td>11/22/63: A Novel</td>\n",
       "      <td>4.7</td>\n",
       "      <td>16.43</td>\n",
       "    </tr>\n",
       "    <tr>\n",
       "      <th>4</th>\n",
       "      <td>12 Rules for Life: An Antidote to Chaos</td>\n",
       "      <td>4.8</td>\n",
       "      <td>18.14</td>\n",
       "    </tr>\n",
       "    <tr>\n",
       "      <th>...</th>\n",
       "      <td>...</td>\n",
       "      <td>...</td>\n",
       "      <td>...</td>\n",
       "    </tr>\n",
       "    <tr>\n",
       "      <th>739</th>\n",
       "      <td>Xanathar's Guide to Everything (Dungeons &amp; Dra...</td>\n",
       "      <td>4.9</td>\n",
       "      <td>32.99</td>\n",
       "    </tr>\n",
       "    <tr>\n",
       "      <th>740</th>\n",
       "      <td>Yes Please</td>\n",
       "      <td>4.3</td>\n",
       "      <td>15.99</td>\n",
       "    </tr>\n",
       "    <tr>\n",
       "      <th>741</th>\n",
       "      <td>You Are a Badass: How to Stop Doubting Your Gr...</td>\n",
       "      <td>4.7</td>\n",
       "      <td>8.45</td>\n",
       "    </tr>\n",
       "    <tr>\n",
       "      <th>742</th>\n",
       "      <td>ZEALOT: The Life and Times of Jesus of Nazareth</td>\n",
       "      <td>4.4</td>\n",
       "      <td>16.50</td>\n",
       "    </tr>\n",
       "    <tr>\n",
       "      <th>743</th>\n",
       "      <td>Zen as F*ck (Zen as F*ck Journals)</td>\n",
       "      <td>4.7</td>\n",
       "      <td>13.49</td>\n",
       "    </tr>\n",
       "  </tbody>\n",
       "</table>\n",
       "<p>744 rows × 3 columns</p>\n",
       "</div>"
      ],
      "text/plain": [
       "                                                 title  ratings  price\n",
       "0                                                 1984      4.7   7.48\n",
       "1                        10-Day Green Smoothie Cleanse      4.7   9.05\n",
       "2    10-Day Green Smoothie Cleanse: Lose Up to 15 P...      4.7  25.75\n",
       "3                                    11/22/63: A Novel      4.7  16.43\n",
       "4              12 Rules for Life: An Antidote to Chaos      4.8  18.14\n",
       "..                                                 ...      ...    ...\n",
       "739  Xanathar's Guide to Everything (Dungeons & Dra...      4.9  32.99\n",
       "740                                         Yes Please      4.3  15.99\n",
       "741  You Are a Badass: How to Stop Doubting Your Gr...      4.7   8.45\n",
       "742    ZEALOT: The Life and Times of Jesus of Nazareth      4.4  16.50\n",
       "743                 Zen as F*ck (Zen as F*ck Journals)      4.7  13.49\n",
       "\n",
       "[744 rows x 3 columns]"
      ]
     },
     "execution_count": 24,
     "metadata": {},
     "output_type": "execute_result"
    }
   ],
   "source": [
    "#Group by title and obtain the mean values\n",
    "df_group_title = df_test_title.groupby(['title'],as_index = False).mean()\n",
    "df_group_title\n"
   ]
  },
  {
   "cell_type": "code",
   "execution_count": 25,
   "id": "d49e7ec7",
   "metadata": {},
   "outputs": [
    {
     "data": {
      "text/plain": [
       "744"
      ]
     },
     "execution_count": 25,
     "metadata": {},
     "output_type": "execute_result"
    }
   ],
   "source": [
    "df_group_title['title'].nunique()\n",
    "#df_group_title_fiction['title'].nunique()"
   ]
  },
  {
   "cell_type": "code",
   "execution_count": 26,
   "id": "a45e1a4c",
   "metadata": {},
   "outputs": [],
   "source": [
    "# Categorise individual title into High,Medium and Low based on average ratings and Expensive\n",
    "# Affordable and Low Priced based on average price\n",
    "\n",
    "bins1 = np.linspace(min(df['ratings']),max(df['ratings']),4)\n",
    "bins2 = np.linspace(min(df['price']),max(df['price']),4)\n",
    "group_names1 = ['Low','Medium','High']\n",
    "group_names2 = ['Low Priced','Affordable','Expensive']\n",
    "df_group_title['rating_tag'] = pd.cut(df_group_title['ratings'],bins1,labels=group_names1,include_lowest = True)\n",
    "df_group_title['price_tag'] = pd.cut(df_group_title['price'],bins2,labels=group_names2,include_lowest = True)"
   ]
  },
  {
   "cell_type": "code",
   "execution_count": 27,
   "id": "66b96c2e",
   "metadata": {},
   "outputs": [
    {
     "data": {
      "text/html": [
       "<div>\n",
       "<style scoped>\n",
       "    .dataframe tbody tr th:only-of-type {\n",
       "        vertical-align: middle;\n",
       "    }\n",
       "\n",
       "    .dataframe tbody tr th {\n",
       "        vertical-align: top;\n",
       "    }\n",
       "\n",
       "    .dataframe thead th {\n",
       "        text-align: right;\n",
       "    }\n",
       "</style>\n",
       "<table border=\"1\" class=\"dataframe\">\n",
       "  <thead>\n",
       "    <tr style=\"text-align: right;\">\n",
       "      <th></th>\n",
       "      <th>title</th>\n",
       "      <th>ratings</th>\n",
       "      <th>price</th>\n",
       "      <th>rating_tag</th>\n",
       "      <th>price_tag</th>\n",
       "    </tr>\n",
       "  </thead>\n",
       "  <tbody>\n",
       "    <tr>\n",
       "      <th>0</th>\n",
       "      <td>1984</td>\n",
       "      <td>4.7</td>\n",
       "      <td>7.48</td>\n",
       "      <td>High</td>\n",
       "      <td>Low Priced</td>\n",
       "    </tr>\n",
       "    <tr>\n",
       "      <th>1</th>\n",
       "      <td>10-Day Green Smoothie Cleanse</td>\n",
       "      <td>4.7</td>\n",
       "      <td>9.05</td>\n",
       "      <td>High</td>\n",
       "      <td>Low Priced</td>\n",
       "    </tr>\n",
       "    <tr>\n",
       "      <th>2</th>\n",
       "      <td>10-Day Green Smoothie Cleanse: Lose Up to 15 P...</td>\n",
       "      <td>4.7</td>\n",
       "      <td>25.75</td>\n",
       "      <td>High</td>\n",
       "      <td>Low Priced</td>\n",
       "    </tr>\n",
       "    <tr>\n",
       "      <th>3</th>\n",
       "      <td>11/22/63: A Novel</td>\n",
       "      <td>4.7</td>\n",
       "      <td>16.43</td>\n",
       "      <td>High</td>\n",
       "      <td>Low Priced</td>\n",
       "    </tr>\n",
       "    <tr>\n",
       "      <th>4</th>\n",
       "      <td>12 Rules for Life: An Antidote to Chaos</td>\n",
       "      <td>4.8</td>\n",
       "      <td>18.14</td>\n",
       "      <td>High</td>\n",
       "      <td>Low Priced</td>\n",
       "    </tr>\n",
       "    <tr>\n",
       "      <th>...</th>\n",
       "      <td>...</td>\n",
       "      <td>...</td>\n",
       "      <td>...</td>\n",
       "      <td>...</td>\n",
       "      <td>...</td>\n",
       "    </tr>\n",
       "    <tr>\n",
       "      <th>739</th>\n",
       "      <td>Xanathar's Guide to Everything (Dungeons &amp; Dra...</td>\n",
       "      <td>4.9</td>\n",
       "      <td>32.99</td>\n",
       "      <td>High</td>\n",
       "      <td>Low Priced</td>\n",
       "    </tr>\n",
       "    <tr>\n",
       "      <th>740</th>\n",
       "      <td>Yes Please</td>\n",
       "      <td>4.3</td>\n",
       "      <td>15.99</td>\n",
       "      <td>Medium</td>\n",
       "      <td>Low Priced</td>\n",
       "    </tr>\n",
       "    <tr>\n",
       "      <th>741</th>\n",
       "      <td>You Are a Badass: How to Stop Doubting Your Gr...</td>\n",
       "      <td>4.7</td>\n",
       "      <td>8.45</td>\n",
       "      <td>High</td>\n",
       "      <td>Low Priced</td>\n",
       "    </tr>\n",
       "    <tr>\n",
       "      <th>742</th>\n",
       "      <td>ZEALOT: The Life and Times of Jesus of Nazareth</td>\n",
       "      <td>4.4</td>\n",
       "      <td>16.50</td>\n",
       "      <td>Medium</td>\n",
       "      <td>Low Priced</td>\n",
       "    </tr>\n",
       "    <tr>\n",
       "      <th>743</th>\n",
       "      <td>Zen as F*ck (Zen as F*ck Journals)</td>\n",
       "      <td>4.7</td>\n",
       "      <td>13.49</td>\n",
       "      <td>High</td>\n",
       "      <td>Low Priced</td>\n",
       "    </tr>\n",
       "  </tbody>\n",
       "</table>\n",
       "<p>744 rows × 5 columns</p>\n",
       "</div>"
      ],
      "text/plain": [
       "                                                 title  ratings  price  \\\n",
       "0                                                 1984      4.7   7.48   \n",
       "1                        10-Day Green Smoothie Cleanse      4.7   9.05   \n",
       "2    10-Day Green Smoothie Cleanse: Lose Up to 15 P...      4.7  25.75   \n",
       "3                                    11/22/63: A Novel      4.7  16.43   \n",
       "4              12 Rules for Life: An Antidote to Chaos      4.8  18.14   \n",
       "..                                                 ...      ...    ...   \n",
       "739  Xanathar's Guide to Everything (Dungeons & Dra...      4.9  32.99   \n",
       "740                                         Yes Please      4.3  15.99   \n",
       "741  You Are a Badass: How to Stop Doubting Your Gr...      4.7   8.45   \n",
       "742    ZEALOT: The Life and Times of Jesus of Nazareth      4.4  16.50   \n",
       "743                 Zen as F*ck (Zen as F*ck Journals)      4.7  13.49   \n",
       "\n",
       "    rating_tag   price_tag  \n",
       "0         High  Low Priced  \n",
       "1         High  Low Priced  \n",
       "2         High  Low Priced  \n",
       "3         High  Low Priced  \n",
       "4         High  Low Priced  \n",
       "..         ...         ...  \n",
       "739       High  Low Priced  \n",
       "740     Medium  Low Priced  \n",
       "741       High  Low Priced  \n",
       "742     Medium  Low Priced  \n",
       "743       High  Low Priced  \n",
       "\n",
       "[744 rows x 5 columns]"
      ]
     },
     "execution_count": 27,
     "metadata": {},
     "output_type": "execute_result"
    }
   ],
   "source": [
    "df_group_title"
   ]
  },
  {
   "cell_type": "code",
   "execution_count": 28,
   "id": "900b8a5b",
   "metadata": {},
   "outputs": [
    {
     "data": {
      "text/plain": [
       "array([628, 110,   6], dtype=int64)"
      ]
     },
     "execution_count": 28,
     "metadata": {},
     "output_type": "execute_result"
    },
    {
     "data": {
      "image/png": "[encoded data removed]",
      "text/plain": [
       "<Figure size 432x288 with 1 Axes>"
      ]
     },
     "metadata": {
      "needs_background": "light"
     },
     "output_type": "display_data"
    }
   ],
   "source": [
    "#Visualise the data in a bar chart\n",
    "cat_ratings = df_group_title['rating_tag'].value_counts().index\n",
    "counts_ratings = df_group_title['rating_tag'].value_counts().values\n",
    "plt.bar(cat_ratings,counts_ratings,width =0.5,color='coral')\n",
    "plt.title('Classification of Best Sellers on average Ratings')\n",
    "#categories\n",
    "counts_ratings"
   ]
  },
  {
   "cell_type": "code",
   "execution_count": 29,
   "id": "ba6a6fdc",
   "metadata": {},
   "outputs": [
    {
     "data": {
      "text/plain": [
       "array([735,   8,   1], dtype=int64)"
      ]
     },
     "execution_count": 29,
     "metadata": {},
     "output_type": "execute_result"
    },
    {
     "data": {
      "image/png": "[encoded data removed]",
      "text/plain": [
       "<Figure size 432x288 with 1 Axes>"
      ]
     },
     "metadata": {
      "needs_background": "light"
     },
     "output_type": "display_data"
    }
   ],
   "source": [
    "#Visualise the data using bar chart\n",
    "cat_price = df_group_title['price_tag'].value_counts().index\n",
    "counts_price = df_group_title['price_tag'].value_counts().values\n",
    "plt.bar(cat_price,counts_price,width =0.5,color ='green')\n",
    "plt.title('Classification of Best Sellers on Average price')\n",
    "\n",
    "counts_price"
   ]
  },
  {
   "cell_type": "markdown",
   "id": "ab4bfb92",
   "metadata": {},
   "source": [
    "### 10. Find the author with maximum number of publications that arrived in the best sellers list during the analysis period"
   ]
  },
  {
   "cell_type": "code",
   "execution_count": 30,
   "id": "4fbbd772",
   "metadata": {},
   "outputs": [
    {
     "data": {
      "text/html": [
       "<div>\n",
       "<style scoped>\n",
       "    .dataframe tbody tr th:only-of-type {\n",
       "        vertical-align: middle;\n",
       "    }\n",
       "\n",
       "    .dataframe tbody tr th {\n",
       "        vertical-align: top;\n",
       "    }\n",
       "\n",
       "    .dataframe thead th {\n",
       "        text-align: right;\n",
       "    }\n",
       "</style>\n",
       "<table border=\"1\" class=\"dataframe\">\n",
       "  <thead>\n",
       "    <tr style=\"text-align: right;\">\n",
       "      <th></th>\n",
       "      <th>Books Published</th>\n",
       "    </tr>\n",
       "  </thead>\n",
       "  <tbody>\n",
       "    <tr>\n",
       "      <th>Rick Riordan</th>\n",
       "      <td>20</td>\n",
       "    </tr>\n",
       "    <tr>\n",
       "      <th>Jeff Kinney</th>\n",
       "      <td>17</td>\n",
       "    </tr>\n",
       "    <tr>\n",
       "      <th>Suzanne Collins</th>\n",
       "      <td>17</td>\n",
       "    </tr>\n",
       "    <tr>\n",
       "      <th>John Grisham</th>\n",
       "      <td>15</td>\n",
       "    </tr>\n",
       "    <tr>\n",
       "      <th>Dr. Seuss</th>\n",
       "      <td>13</td>\n",
       "    </tr>\n",
       "    <tr>\n",
       "      <th>American Psychological Association</th>\n",
       "      <td>13</td>\n",
       "    </tr>\n",
       "    <tr>\n",
       "      <th>Gary Chapman</th>\n",
       "      <td>13</td>\n",
       "    </tr>\n",
       "    <tr>\n",
       "      <th>Gallup</th>\n",
       "      <td>13</td>\n",
       "    </tr>\n",
       "    <tr>\n",
       "      <th>Bill Martin Jr.</th>\n",
       "      <td>12</td>\n",
       "    </tr>\n",
       "    <tr>\n",
       "      <th>Malcolm Gladwell</th>\n",
       "      <td>12</td>\n",
       "    </tr>\n",
       "  </tbody>\n",
       "</table>\n",
       "</div>"
      ],
      "text/plain": [
       "                                    Books Published\n",
       "Rick Riordan                                     20\n",
       "Jeff Kinney                                      17\n",
       "Suzanne Collins                                  17\n",
       "John Grisham                                     15\n",
       "Dr. Seuss                                        13\n",
       "American Psychological Association               13\n",
       "Gary Chapman                                     13\n",
       "Gallup                                           13\n",
       "Bill Martin Jr.                                  12\n",
       "Malcolm Gladwell                                 12"
      ]
     },
     "execution_count": 30,
     "metadata": {},
     "output_type": "execute_result"
    }
   ],
   "source": [
    "author_data = df['author'].value_counts()\n",
    "author_df=author_data.to_frame()\n",
    "author_df.rename(columns={'author':'Books Published'},inplace =True)\n",
    "\n",
    "author_df.head(10)"
   ]
  },
  {
   "cell_type": "markdown",
   "id": "ef66c656",
   "metadata": {},
   "source": [
    "### 11. To identify the title that appeared most in the best sellers list during the analysis period"
   ]
  },
  {
   "cell_type": "code",
   "execution_count": 31,
   "id": "11ce55e1",
   "metadata": {},
   "outputs": [
    {
     "data": {
      "text/html": [
       "<div>\n",
       "<style scoped>\n",
       "    .dataframe tbody tr th:only-of-type {\n",
       "        vertical-align: middle;\n",
       "    }\n",
       "\n",
       "    .dataframe tbody tr th {\n",
       "        vertical-align: top;\n",
       "    }\n",
       "\n",
       "    .dataframe thead th {\n",
       "        text-align: right;\n",
       "    }\n",
       "</style>\n",
       "<table border=\"1\" class=\"dataframe\">\n",
       "  <thead>\n",
       "    <tr style=\"text-align: right;\">\n",
       "      <th></th>\n",
       "      <th>Appearences</th>\n",
       "    </tr>\n",
       "  </thead>\n",
       "  <tbody>\n",
       "    <tr>\n",
       "      <th>StrengthsFinder 2.0</th>\n",
       "      <td>11</td>\n",
       "    </tr>\n",
       "    <tr>\n",
       "      <th>Publication Manual of the American Psychological Association, 6th Edition</th>\n",
       "      <td>11</td>\n",
       "    </tr>\n",
       "    <tr>\n",
       "      <th>The 7 Habits of Highly Effective People: Powerful Lessons in Personal Change</th>\n",
       "      <td>10</td>\n",
       "    </tr>\n",
       "    <tr>\n",
       "      <th>The Four Agreements: A Practical Guide to Personal Freedom (A Toltec Wisdom Book)</th>\n",
       "      <td>10</td>\n",
       "    </tr>\n",
       "    <tr>\n",
       "      <th>Love You Forever</th>\n",
       "      <td>9</td>\n",
       "    </tr>\n",
       "    <tr>\n",
       "      <th>How to Win Friends &amp; Influence People</th>\n",
       "      <td>9</td>\n",
       "    </tr>\n",
       "    <tr>\n",
       "      <th>What to Expect When You're Expecting</th>\n",
       "      <td>9</td>\n",
       "    </tr>\n",
       "    <tr>\n",
       "      <th>The Official SAT Study Guide</th>\n",
       "      <td>9</td>\n",
       "    </tr>\n",
       "    <tr>\n",
       "      <th>The Great Gatsby: The Only Authorized Edition</th>\n",
       "      <td>9</td>\n",
       "    </tr>\n",
       "    <tr>\n",
       "      <th>The Very Hungry Caterpillar</th>\n",
       "      <td>9</td>\n",
       "    </tr>\n",
       "  </tbody>\n",
       "</table>\n",
       "</div>"
      ],
      "text/plain": [
       "                                                    Appearences\n",
       "StrengthsFinder 2.0                                          11\n",
       "Publication Manual of the American Psychologica...           11\n",
       "The 7 Habits of Highly Effective People: Powerf...           10\n",
       "The Four Agreements: A Practical Guide to Perso...           10\n",
       "Love You Forever                                              9\n",
       "How to Win Friends & Influence People                         9\n",
       "What to Expect When You're Expecting                          9\n",
       "The Official SAT Study Guide                                  9\n",
       "The Great Gatsby: The Only Authorized Edition                 9\n",
       "The Very Hungry Caterpillar                                   9"
      ]
     },
     "execution_count": 31,
     "metadata": {},
     "output_type": "execute_result"
    }
   ],
   "source": [
    "title_data = df['title'].value_counts()\n",
    "\n",
    "title_df=title_data.to_frame()\n",
    "title_df.rename(columns={'title':'Appearences'},inplace =True)\n",
    "title_df.head(10)"
   ]
  },
  {
   "cell_type": "code",
   "execution_count": null,
   "id": "eb70dd52",
   "metadata": {},
   "outputs": [],
   "source": []
  }
 ],
 "metadata": {
  "kernelspec": {
   "display_name": "Python 3",
   "language": "python",
   "name": "python3"
  },
  "language_info": {
   "codemirror_mode": {
    "name": "ipython",
    "version": 3
   },
   "file_extension": ".py",
   "mimetype": "text/x-python",
   "name": "python",
   "nbconvert_exporter": "python",
   "pygments_lexer": "ipython3",
   "version": "3.8.8"
  }
 },
 "nbformat": 4,
 "nbformat_minor": 5
}
